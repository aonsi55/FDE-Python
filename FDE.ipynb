{
 "cells": [
  {
   "cell_type": "code",
   "execution_count": null,
   "metadata": {},
   "outputs": [],
   "source": [
    "import numpy as np\n",
    "import matplotlib.pyplot as plt\n",
    "\n",
    "length = 300. # length in cm\n",
    "size = 151 # grid size\n",
    "num_steps = 18000 # number of timesteps\n",
    "conductivity = 0.12 # units: (cal/s cm degree C)\n",
    "specific_heat = 0.113 # units: (cal/ g degree C)\n",
    "rho = 7.8 # density in (g/cm^3)\n",
    "T = np.zeros((size,2)) # temperature at x and two times\n",
    "delta_x = length/(size-1) # mesh spacing in x\n",
    "delta_t = 1 # time step in seconds\n",
    "for i in range(size):\n",
    "    T[i,0] = 100. # at t=0, all points are at 100 C\n",
    "for j in range(2): # except the endpoints, which are 0 C\n",
    "    T[0,j] = T[size-1,j] = 0.\n",
    "constant =delta_t* (conductivity / (specific_heat*rho)) / (delta_x*delta_x)\n",
    "for i in range(1,num_steps+1): # loop over num_steps timesteps\n",
    "    for j in range(1,size-1): # loop over space\n",
    "        T[j,1] = T[j,0] + constant * (T[j+1,0] + T[j-1,0] - 2.0 * T[j,0])\n",
    "    if (i % 1800 == 0) or (i == 1): # save every 500 time steps, which is equivalent to delta_t times 600, or every 1800 seconds, ot every 30 minutes\n",
    "        plt.plot(T[:,1])\n",
    "    for j in range(size):\n",
    "        T[j,0] = T[j,1]\n",
    "# name y-axis Temperature (C), and x-axis Distance (cm)\n",
    "plt.xlabel('Distance (cm)')\n",
    "plt.ylabel('Temperature (C)')\n",
    "# legend every curve\n",
    "plt.legend(['0 min', '30 min', '1 hr', '1.5 hr', '2 hr', '2.5 hr', '3 hr', '3.5 hr', '4 hr', '4.5 hr', '5 hr'])\n",
    "plt.show()"
   ]
  }
 ],
 "metadata": {
  "language_info": {
   "name": "python"
  },
  "orig_nbformat": 4
 },
 "nbformat": 4,
 "nbformat_minor": 2
}
